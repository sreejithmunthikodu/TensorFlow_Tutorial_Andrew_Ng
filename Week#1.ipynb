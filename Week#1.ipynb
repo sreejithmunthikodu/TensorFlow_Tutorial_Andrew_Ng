{
 "cells": [
  {
   "cell_type": "markdown",
   "metadata": {},
   "source": [
    "### Introduction to TensorFlow for Artificial Intelligence, Machine Learning, and Deep Learning  \n",
    "Week 1  \n",
    "10th July 2019"
   ]
  },
  {
   "cell_type": "code",
   "execution_count": 1,
   "metadata": {},
   "outputs": [
    {
     "name": "stderr",
     "output_type": "stream",
     "text": [
      "Using TensorFlow backend.\n"
     ]
    }
   ],
   "source": [
    "import numpy as np\n",
    "import matplotlib.pyplot as plt\n",
    "import tensorflow as tf\n",
    "import keras"
   ]
  },
  {
   "cell_type": "code",
   "execution_count": 20,
   "metadata": {},
   "outputs": [],
   "source": [
    "xs = np.array([-1, 0, 1, 2, 3, 4])\n",
    "ys = np.array([-3, -1, 1, 3, 5, 7])"
   ]
  },
  {
   "cell_type": "code",
   "execution_count": 21,
   "metadata": {},
   "outputs": [
    {
     "data": {
      "text/plain": [
       "[<matplotlib.lines.Line2D at 0x1b1aa6fab70>]"
      ]
     },
     "execution_count": 21,
     "metadata": {},
     "output_type": "execute_result"
    },
    {
     "data": {
      "image/png": "[encoded data removed]",
      "text/plain": [
       "<Figure size 432x288 with 1 Axes>"
      ]
     },
     "metadata": {
      "needs_background": "light"
     },
     "output_type": "display_data"
    }
   ],
   "source": [
    "plt.plot(xs, ys)"
   ]
  },
  {
   "cell_type": "markdown",
   "metadata": {},
   "source": [
    "### Create a one hidden layer neural network with one neuron to map the above function"
   ]
  },
  {
   "cell_type": "code",
   "execution_count": 56,
   "metadata": {},
   "outputs": [
    {
     "name": "stdout",
     "output_type": "stream",
     "text": [
      "Epoch 1/20\n",
      "6/6 [==============================] - 0s 51ms/step - loss: 1.8447\n",
      "Epoch 2/20\n",
      "6/6 [==============================] - 0s 336us/step - loss: 1.5931\n",
      "Epoch 3/20\n",
      "6/6 [==============================] - 0s 666us/step - loss: 1.3922\n",
      "Epoch 4/20\n",
      "6/6 [==============================] - 0s 500us/step - loss: 1.2313\n",
      "Epoch 5/20\n",
      "6/6 [==============================] - 0s 500us/step - loss: 1.1019\n",
      "Epoch 6/20\n",
      "6/6 [==============================] - 0s 665us/step - loss: 0.9973\n",
      "Epoch 7/20\n",
      "6/6 [==============================] - 0s 500us/step - loss: 0.9124\n",
      "Epoch 8/20\n",
      "6/6 [==============================] - 0s 1ms/step - loss: 0.8430\n",
      "Epoch 9/20\n",
      "6/6 [==============================] - 0s 1000us/step - loss: 0.7858\n",
      "Epoch 10/20\n",
      "6/6 [==============================] - 0s 833us/step - loss: 0.7383\n",
      "Epoch 11/20\n",
      "6/6 [==============================] - 0s 500us/step - loss: 0.6984\n",
      "Epoch 12/20\n",
      "6/6 [==============================] - 0s 500us/step - loss: 0.6646\n",
      "Epoch 13/20\n",
      "6/6 [==============================] - 0s 666us/step - loss: 0.6357\n",
      "Epoch 14/20\n",
      "6/6 [==============================] - 0s 666us/step - loss: 0.6106\n",
      "Epoch 15/20\n",
      "6/6 [==============================] - 0s 500us/step - loss: 0.5886\n",
      "Epoch 16/20\n",
      "6/6 [==============================] - 0s 667us/step - loss: 0.5691\n",
      "Epoch 17/20\n",
      "6/6 [==============================] - 0s 331us/step - loss: 0.5515\n",
      "Epoch 18/20\n",
      "6/6 [==============================] - 0s 333us/step - loss: 0.5356\n",
      "Epoch 19/20\n",
      "6/6 [==============================] - 0s 333us/step - loss: 0.5210\n",
      "Epoch 20/20\n",
      "6/6 [==============================] - 0s 334us/step - loss: 0.5074\n"
     ]
    },
    {
     "data": {
      "text/plain": [
       "<keras.callbacks.History at 0x1b1aa6d57b8>"
      ]
     },
     "execution_count": 56,
     "metadata": {},
     "output_type": "execute_result"
    }
   ],
   "source": [
    "model = keras.Sequential([keras.layers.Dense(units=1, input_shape=[1])])\n",
    "model.compile(optimizer=\"sgd\", loss=\"mean_squared_error\")\n",
    "model.fit(xs, ys, epochs=20)"
   ]
  },
  {
   "cell_type": "code",
   "execution_count": 57,
   "metadata": {},
   "outputs": [],
   "source": [
    "y_pred = model.predict(xs)\n",
    "y_pred = [x[0] for x in y_pred]"
   ]
  },
  {
   "cell_type": "code",
   "execution_count": 58,
   "metadata": {},
   "outputs": [
    {
     "data": {
      "text/plain": [
       "<matplotlib.legend.Legend at 0x1b1ab02f2e8>"
      ]
     },
     "execution_count": 58,
     "metadata": {},
     "output_type": "execute_result"
    },
    {
     "data": {
      "image/png": "[encoded data removed]",
      "text/plain": [
       "<Figure size 432x288 with 1 Axes>"
      ]
     },
     "metadata": {
      "needs_background": "light"
     },
     "output_type": "display_data"
    }
   ],
   "source": [
    "plt.plot(xs, ys, c=\"r\")\n",
    "plt.plot(xs, y_pred, c=\"g\")\n",
    "plt.legend([\"actual\", \"predicted\"])"
   ]
  },
  {
   "cell_type": "code",
   "execution_count": null,
   "metadata": {},
   "outputs": [],
   "source": []
  }
 ],
 "metadata": {
  "kernelspec": {
   "display_name": "Python 3",
   "language": "python",
   "name": "python3"
  },
  "language_info": {
   "codemirror_mode": {
    "name": "ipython",
    "version": 3
   },
   "file_extension": ".py",
   "mimetype": "text/x-python",
   "name": "python",
   "nbconvert_exporter": "python",
   "pygments_lexer": "ipython3",
   "version": "3.6.8"
  }
 },
 "nbformat": 4,
 "nbformat_minor": 2
}

{
 "cells": [
  {
   "cell_type": "markdown",
   "metadata": {},
   "source": [
    "### Convolutional Neural Networks\n",
    "Train a basic neural network on the fashion MNIST and evaluate the performance. Then improve the performance using a convolutional neural network with cov-maxpoll-conv-maxpool-fc-fc-softmax architecture."
   ]
  },
  {
   "cell_type": "code",
   "execution_count": 4,
   "metadata": {},
   "outputs": [],
   "source": [
    "import keras\n",
    "import numpy as np\n",
    "import matplotlib.pyplot as plt\n",
    "import tensorflow as tf"
   ]
  },
  {
   "cell_type": "markdown",
   "metadata": {},
   "source": [
    "### Performance with simple neural network"
   ]
  },
  {
   "cell_type": "code",
   "execution_count": 21,
   "metadata": {},
   "outputs": [],
   "source": [
    "fashion_mnist = keras.datasets.fashion_mnist\n",
    "(X_train, y_train), (X_test, y_test) = fashion_mnist.load_data()"
   ]
  },
  {
   "cell_type": "code",
   "execution_count": 22,
   "metadata": {},
   "outputs": [
    {
     "name": "stdout",
     "output_type": "stream",
     "text": [
      "Epoch 1/10\n",
      "60000/60000 [==============================] - 9s 142us/step - loss: 0.4978 - acc: 0.8264\n",
      "Epoch 2/10\n",
      "60000/60000 [==============================] - 8s 132us/step - loss: 0.3757 - acc: 0.8645\n",
      "Epoch 3/10\n",
      "60000/60000 [==============================] - 8s 126us/step - loss: 0.3371 - acc: 0.8776\n",
      "Epoch 4/10\n",
      "60000/60000 [==============================] - 8s 131us/step - loss: 0.3118 - acc: 0.8845\n",
      "Epoch 5/10\n",
      "60000/60000 [==============================] - 8s 131us/step - loss: 0.2944 - acc: 0.8891\n",
      "Epoch 6/10\n",
      "60000/60000 [==============================] - 8s 127us/step - loss: 0.2813 - acc: 0.8965\n",
      "Epoch 7/10\n",
      "60000/60000 [==============================] - 8s 128us/step - loss: 0.2678 - acc: 0.9003\n",
      "Epoch 8/10\n",
      "60000/60000 [==============================] - 8s 136us/step - loss: 0.2565 - acc: 0.9036\n",
      "Epoch 9/10\n",
      "60000/60000 [==============================] - 8s 132us/step - loss: 0.2479 - acc: 0.9073\n",
      "Epoch 10/10\n",
      "60000/60000 [==============================] - 8s 133us/step - loss: 0.2374 - acc: 0.9107\n"
     ]
    },
    {
     "data": {
      "text/plain": [
       "<keras.callbacks.History at 0x16c1b06d9b0>"
      ]
     },
     "execution_count": 22,
     "metadata": {},
     "output_type": "execute_result"
    }
   ],
   "source": [
    "# Normalize\n",
    "X_train, X_test = X_train/256, X_test/256\n",
    "\n",
    "model = keras.Sequential([\n",
    "    keras.layers.Flatten(),\n",
    "    keras.layers.Dense(128, activation=tf.nn.relu),\n",
    "    keras.layers.Dense(10, activation=tf.nn.softmax)\n",
    "])\n",
    "\n",
    "model.compile(optimizer=\"adam\", loss=\"sparse_categorical_crossentropy\", metrics=[\"accuracy\"])\n",
    "model.fit(X_train, y_train, epochs=10)\n"
   ]
  },
  {
   "cell_type": "code",
   "execution_count": 23,
   "metadata": {},
   "outputs": [
    {
     "name": "stdout",
     "output_type": "stream",
     "text": [
      "10000/10000 [==============================] - 1s 54us/step\n"
     ]
    },
    {
     "data": {
      "text/plain": [
       "[0.32959196000099183, 0.8842]"
      ]
     },
     "execution_count": 23,
     "metadata": {},
     "output_type": "execute_result"
    }
   ],
   "source": [
    "model.evaluate(X_test, y_test)"
   ]
  },
  {
   "cell_type": "markdown",
   "metadata": {},
   "source": [
    "### Performance with convnets"
   ]
  },
  {
   "cell_type": "code",
   "execution_count": 32,
   "metadata": {},
   "outputs": [
    {
     "name": "stdout",
     "output_type": "stream",
     "text": [
      "Epoch 1/3\n",
      "60000/60000 [==============================] - 176s 3ms/step - loss: 0.4709 - acc: 0.8267\n",
      "Epoch 2/3\n",
      "60000/60000 [==============================] - 168s 3ms/step - loss: 0.3056 - acc: 0.8881\n",
      "Epoch 3/3\n",
      "60000/60000 [==============================] - 166s 3ms/step - loss: 0.2604 - acc: 0.9038\n",
      "10000/10000 [==============================] - 9s 902us/step\n"
     ]
    },
    {
     "data": {
      "text/plain": [
       "[0.27746850831508635, 0.8976]"
      ]
     },
     "execution_count": 32,
     "metadata": {},
     "output_type": "execute_result"
    }
   ],
   "source": [
    "X_train, X_test = X_train.reshape(60000,28,28,1), X_test.reshape(10000,28,28,1)\n",
    "\n",
    "model = keras.Sequential([\n",
    "    keras.layers.Conv2D(64,(3,3), activation=tf.nn.relu, input_shape=(28,28,1)),\n",
    "    keras.layers.MaxPooling2D(2,2),\n",
    "    keras.layers.Conv2D(64,(3,3), activation=tf.nn.relu),\n",
    "    keras.layers.MaxPooling2D(2,2),\n",
    "    keras.layers.Conv2D(64, (3,3), activation=tf.nn.relu),\n",
    "    keras.layers.Flatten(),\n",
    "    keras.layers.Dense(128, activation=tf.nn.relu),\n",
    "    keras.layers.Dense(10, activation=tf.nn.softmax)\n",
    "])\n",
    "\n",
    "model.compile(optimizer=\"adam\", loss=\"sparse_categorical_crossentropy\", metrics=[\"accuracy\"])\n",
    "\n",
    "model.fit(X_train, y_train, epochs=3)\n",
    "model.evaluate(X_test, y_test)"
   ]
  },
  {
   "cell_type": "code",
   "execution_count": null,
   "metadata": {},
   "outputs": [],
   "source": []
  }
 ],
 "metadata": {
  "kernelspec": {
   "display_name": "Python 3",
   "language": "python",
   "name": "python3"
  },
  "language_info": {
   "codemirror_mode": {
    "name": "ipython",
    "version": 3
   },
   "file_extension": ".py",
   "mimetype": "text/x-python",
   "name": "python",
   "nbconvert_exporter": "python",
   "pygments_lexer": "ipython3",
   "version": "3.6.8"
  }
 },
 "nbformat": 4,
 "nbformat_minor": 2
}
